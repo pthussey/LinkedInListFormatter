{
 "cells": [
  {
   "cell_type": "code",
   "execution_count": 86,
   "id": "4c986b98",
   "metadata": {},
   "outputs": [],
   "source": [
    "import pandas as pd\n",
    "import openpyxl"
   ]
  },
  {
   "cell_type": "code",
   "execution_count": 87,
   "id": "5b6c3bbf",
   "metadata": {},
   "outputs": [],
   "source": [
    "# df = pd.read_csv('Canada_candidate_list_before_conversion-done.csv', encoding='utf-8')\n",
    "# df"
   ]
  },
  {
   "cell_type": "code",
   "execution_count": 88,
   "id": "dcee8345",
   "metadata": {},
   "outputs": [
    {
     "data": {
      "text/html": [
       "<div>\n",
       "<style scoped>\n",
       "    .dataframe tbody tr th:only-of-type {\n",
       "        vertical-align: middle;\n",
       "    }\n",
       "\n",
       "    .dataframe tbody tr th {\n",
       "        vertical-align: top;\n",
       "    }\n",
       "\n",
       "    .dataframe thead th {\n",
       "        text-align: right;\n",
       "    }\n",
       "</style>\n",
       "<table border=\"1\" class=\"dataframe\">\n",
       "  <thead>\n",
       "    <tr style=\"text-align: right;\">\n",
       "      <th></th>\n",
       "      <th>First Name</th>\n",
       "      <th>Last Name</th>\n",
       "      <th>Education</th>\n",
       "      <th>Work Experience</th>\n",
       "      <th>Profile URL</th>\n",
       "    </tr>\n",
       "  </thead>\n",
       "  <tbody>\n",
       "    <tr>\n",
       "      <th>0</th>\n",
       "      <td>Myunghee</td>\n",
       "      <td>Kim</td>\n",
       "      <td>Carnegie Mellon University, Doctor of Philosop...</td>\n",
       "      <td>Assistant Professor at University of Illinois ...</td>\n",
       "      <td>https://www.linkedin.com/in/myunghee-kim-1811a23a</td>\n",
       "    </tr>\n",
       "    <tr>\n",
       "      <th>1</th>\n",
       "      <td>Johnny</td>\n",
       "      <td>Lee</td>\n",
       "      <td>Carnegie Mellon University, PhD · 2001 – 2008\\...</td>\n",
       "      <td>Director Of Engineering at Google · 2022 – Pre...</td>\n",
       "      <td>https://www.linkedin.com/in/johnnychunglee</td>\n",
       "    </tr>\n",
       "    <tr>\n",
       "      <th>2</th>\n",
       "      <td>MJ</td>\n",
       "      <td>Chun</td>\n",
       "      <td>Swarthmore College, BA - High Honors · 1996 – ...</td>\n",
       "      <td>Head of Product at Serve Robotics · 2021 – Pre...</td>\n",
       "      <td>https://www.linkedin.com/in/mjchun</td>\n",
       "    </tr>\n",
       "  </tbody>\n",
       "</table>\n",
       "</div>"
      ],
      "text/plain": [
       "  First Name Last Name                                          Education  \\\n",
       "0   Myunghee       Kim  Carnegie Mellon University, Doctor of Philosop...   \n",
       "1     Johnny       Lee  Carnegie Mellon University, PhD · 2001 – 2008\\...   \n",
       "2         MJ      Chun  Swarthmore College, BA - High Honors · 1996 – ...   \n",
       "\n",
       "                                     Work Experience  \\\n",
       "0  Assistant Professor at University of Illinois ...   \n",
       "1  Director Of Engineering at Google · 2022 – Pre...   \n",
       "2  Head of Product at Serve Robotics · 2021 – Pre...   \n",
       "\n",
       "                                         Profile URL  \n",
       "0  https://www.linkedin.com/in/myunghee-kim-1811a23a  \n",
       "1         https://www.linkedin.com/in/johnnychunglee  \n",
       "2                 https://www.linkedin.com/in/mjchun  "
      ]
     },
     "execution_count": 88,
     "metadata": {},
     "output_type": "execute_result"
    }
   ],
   "source": [
    "df = pd.read_excel('previous_edu_and_exp.xlsx')\n",
    "df"
   ]
  },
  {
   "cell_type": "code",
   "execution_count": 89,
   "id": "109aefe5",
   "metadata": {},
   "outputs": [],
   "source": [
    "# df = pd.read_csv('previous_edu_and_exp.txt', delimiter = '\\t', encoding='utf-8')\n",
    "# df"
   ]
  },
  {
   "cell_type": "code",
   "execution_count": 90,
   "id": "e9cf1dcd",
   "metadata": {},
   "outputs": [],
   "source": [
    "# Replace carriage returns + line feeds with just line feeds\n",
    "df.Education = df.Education.str.replace('\\r\\n', '\\n')\n",
    "df['Work Experience'] = df['Work Experience'].str.replace('\\r\\n', '\\n')\n",
    "\n",
    "# Replace carriage returns with just line feeds\n",
    "df.Education = df.Education.str.replace('\\r', '\\n')\n",
    "df['Work Experience'] = df['Work Experience'].str.replace('\\r', '\\n')"
   ]
  },
  {
   "cell_type": "code",
   "execution_count": 91,
   "id": "e756fe93",
   "metadata": {},
   "outputs": [],
   "source": [
    "# s = df.loc[2, 'Work Experience']\n",
    "# s"
   ]
  },
  {
   "cell_type": "code",
   "execution_count": 92,
   "id": "fad08fab",
   "metadata": {},
   "outputs": [],
   "source": [
    "# exp_list = s.split('\\n')\n",
    "# exp_list"
   ]
  },
  {
   "cell_type": "code",
   "execution_count": 93,
   "id": "e91a8a43",
   "metadata": {},
   "outputs": [],
   "source": [
    "# title_split_list = exp_list[0].split(' at ', 1)\n",
    "# title = title_split_list[0]"
   ]
  },
  {
   "cell_type": "code",
   "execution_count": 94,
   "id": "ac6ee351",
   "metadata": {},
   "outputs": [],
   "source": [
    "# company, period = title_split_list[1].split(' · ')"
   ]
  },
  {
   "cell_type": "code",
   "execution_count": 95,
   "id": "34000231",
   "metadata": {},
   "outputs": [],
   "source": [
    "# exp_split_list =[title, company, period]\n",
    "# exp_split_list"
   ]
  },
  {
   "cell_type": "code",
   "execution_count": 96,
   "id": "68b752bc",
   "metadata": {},
   "outputs": [],
   "source": [
    "# full_exp_split_list = []\n",
    "# for exp in exp_list:\n",
    "#     title_split_list = exp.split(' at ', 1)\n",
    "#     title = title_split_list[0]\n",
    "#     company, period = title_split_list[1].rsplit(' · ', 1)\n",
    "#     exp_split_list = [title, company, period]\n",
    "#     full_exp_split_list.append(exp_split_list)\n",
    "\n",
    "# full_exp_split_list"
   ]
  },
  {
   "cell_type": "code",
   "execution_count": 97,
   "id": "3d057745",
   "metadata": {},
   "outputs": [],
   "source": [
    "# exp_string = ''\n",
    "# full_exp_split_list[0]"
   ]
  },
  {
   "cell_type": "code",
   "execution_count": 98,
   "id": "f4080bd3",
   "metadata": {},
   "outputs": [],
   "source": [
    "# # Case of single entry for a company\n",
    "# exp_string + '- ' + full_exp_split_list[0][1] + ', ' + full_exp_split_list[0][0] + ' (' + full_exp_split_list[0][2] + ')'"
   ]
  },
  {
   "cell_type": "code",
   "execution_count": 99,
   "id": "7d7c1b57",
   "metadata": {},
   "outputs": [],
   "source": [
    "# # Case of the same company in next item\n",
    "# (exp_string + '- ' + full_exp_split_list[0][1] + '\\n' +\n",
    "# '  · ' + full_exp_split_list[0][0] + ' (' + full_exp_split_list[0][2] + ')')"
   ]
  },
  {
   "cell_type": "code",
   "execution_count": 100,
   "id": "87bcfe90",
   "metadata": {},
   "outputs": [],
   "source": [
    "# Initiate string to hold all the work experiences\n",
    "# exp_string = ''\n",
    "\n",
    "# for idx, exp in enumerate(full_exp_split_list):  \n",
    "#     # Handle the first experience in the list\n",
    "#     if idx == 0:\n",
    "#             exp_string = exp_string + '- ' + exp[1] + '\\n' + '  · ' + exp[0] + ' (' + exp[2] + ')'\n",
    "    \n",
    "#     # Handle the last experience in the list\n",
    "#     elif idx == len(full_exp_split_list)-1:\n",
    "#         if full_exp_split_list[idx][1] == full_exp_split_list[idx-1][1]: # current and previous company check\n",
    "#             new_string = '  · ' + exp[0] + ' (' + exp[2] + ')'\n",
    "#             exp_string = exp_string + '\\n' + new_string\n",
    "#         else:\n",
    "#             new_string = '- ' + exp[1] + '\\n' + '  · ' + exp[0] + ' (' + exp[2] + ')'\n",
    "#             exp_string = exp_string + '\\n' + new_string\n",
    "    \n",
    "#     # Handle all the experiences in the middle\n",
    "#     else:\n",
    "#         if full_exp_split_list[idx][1] == full_exp_split_list[idx-1][1]: # current and previous company check\n",
    "#             new_string = '  · ' + exp[0] + ' (' + exp[2] + ')'\n",
    "#             exp_string = exp_string + '\\n' + new_string\n",
    "#         else:\n",
    "#             if full_exp_split_list[idx][1] == full_exp_split_list[idx+1][1]: # current and next company check\n",
    "#                 new_string = '- ' + exp[1] + '\\n' + '  · ' + exp[0] + ' (' + exp[2] + ')'\n",
    "#                 exp_string = exp_string + '\\n' + new_string\n",
    "#             else:\n",
    "#                 new_string = '- ' + exp[1] + '\\n' + '  · ' + exp[0] + ' (' + exp[2] + ')'\n",
    "#                 exp_string = exp_string + '\\n' + new_string\n",
    "            \n",
    "    \n",
    "# print(exp_string)\n",
    "#     current_exp = exp\n",
    "#     next_exp = exp + 1\n",
    "#     if current_exp[1] == next_exp[1]:\n",
    "#         next_exp_check = True\n",
    "#     else:\n",
    "#         next_exp_check = False\n",
    "    \n",
    "#     if multi_exp_flag:\n",
    "#         exp_string + '- ' + exp[1] + '\\n' + '  · ' + exp[0] + ' (' + exp[2] + ')'\n",
    "#     else:\n",
    "#         exp_string + '- ' + exp[1] + ', ' + exp[0] + ' (' + exp[2] + ')'\n",
    "    \n",
    "#     if next_exp_check == False:\n",
    "#         multi_exp_flag = False\n",
    "    "
   ]
  },
  {
   "cell_type": "code",
   "execution_count": 101,
   "id": "ace107dd",
   "metadata": {},
   "outputs": [],
   "source": [
    "# Create experience formatter function\n",
    "def format_exp (input_exp_string):\n",
    "    \"\"\"Takes a work experience input string, as cut-and-pasted from LinkedIn, \n",
    "    and puts it into a more reader friendly format.\n",
    "    \"\"\"\n",
    "    \n",
    "    # Split the work experience string into a list at each new line\n",
    "    exp_list = input_exp_string.split('\\n')\n",
    "    \n",
    "    # For each experience in the experience list, \n",
    "    # pull out the title, company, and period and put them in a list, \n",
    "    # then append each list to a full experience list, \n",
    "    # creating a nested list.\n",
    "    full_exp_split_list = []\n",
    "    \n",
    "    try:\n",
    "        for exp in exp_list:\n",
    "            # Handle cases of \"Profile experience\" being copied over in the string.\n",
    "            if exp == \"Profile experience\":\n",
    "                print('Warning:\\nThe text string \\\"Profile experience\\\" was found in one of the work experience entries. ' +\n",
    "                      'This string is sometimes inadvertently copied over with the experiences when cutting and pasting. ' +\n",
    "                      'All experience entry formatting has been completed, ' +\n",
    "                      'but you will need to check all entries in your output file and remove it manually.\\n')\n",
    "                full_exp_split_list.append(exp)\n",
    "            else:\n",
    "                title_split_list = exp.split(' at ', 1)\n",
    "                title = title_split_list[0]\n",
    "                company, period = title_split_list[1].rsplit(' · ', 1)\n",
    "                exp_split_list = [title, company, period]\n",
    "                full_exp_split_list.append(exp_split_list)\n",
    "    except IndexError:\n",
    "        print ('Warning:\\nThere is an entry in one of the work experiences that is not in the proper format. ' +\n",
    "               'All experiences must be in the form [title] at [company] · [period]. ' +\n",
    "               'Any entries that are not in the proper format will appear as blank cells in the returned file.\\n')\n",
    "    \n",
    "    # Rebuild the work experience string (exp_string) in a more readable way\n",
    "    exp_string = ''\n",
    "\n",
    "    for idx, exp in enumerate(full_exp_split_list):  \n",
    "        # Format the first experience in the list and add them to the new string\n",
    "        if idx == 0:\n",
    "            if exp == 'Profile experience':\n",
    "                exp_string = exp_string + exp\n",
    "            else:\n",
    "                exp_string = exp_string + '- ' + exp[1] + '\\n' + '  · ' + exp[0] + ' (' + exp[2] + ')'\n",
    "        \n",
    "        # Format all other experiences in the list and add them to the new string\n",
    "        else:\n",
    "            if full_exp_split_list[idx][1] == full_exp_split_list[idx-1][1]: # current and previous company check\n",
    "                new_string = '  · ' + exp[0] + ' (' + exp[2] + ')'\n",
    "                exp_string = exp_string + '\\n' + new_string\n",
    "            else:\n",
    "                new_string = '- ' + exp[1] + '\\n' + '  · ' + exp[0] + ' (' + exp[2] + ')'\n",
    "                exp_string = exp_string + '\\n' + new_string\n",
    "                \n",
    "    return exp_string\n",
    "#         # Handle the last experience in the list\n",
    "#         elif idx == len(full_exp_split_list)-1:\n",
    "#             if full_exp_split_list[idx][1] == full_exp_split_list[idx-1][1]: # current and previous company check\n",
    "#                 new_string = '  · ' + exp[0] + ' (' + exp[2] + ')'\n",
    "#                 exp_string = exp_string + '\\n' + new_string\n",
    "#             else:\n",
    "#                 new_string = '- ' + exp[1] + '\\n' + '  · ' + exp[0] + ' (' + exp[2] + ')'\n",
    "#                 exp_string = exp_string + '\\n' + new_string\n",
    "\n",
    "#         # Handle all the experiences in the middle\n",
    "#         else:\n",
    "#             if full_exp_split_list[idx][1] == full_exp_split_list[idx-1][1]: # current and previous company check\n",
    "#                 new_string = '  · ' + exp[0] + ' (' + exp[2] + ')'\n",
    "#                 exp_string = exp_string + '\\n' + new_string\n",
    "#             else:\n",
    "#                 if full_exp_split_list[idx][1] == full_exp_split_list[idx+1][1]: # current and next company check\n",
    "#                     new_string = '- ' + exp[1] + '\\n' + '  · ' + exp[0] + ' (' + exp[2] + ')'\n",
    "#                     exp_string = exp_string + '\\n' + new_string\n",
    "#                 else:\n",
    "#                     new_string = '- ' + exp[1] + '\\n' + '  · ' + exp[0] + ' (' + exp[2] + ')'\n",
    "#                     exp_string = exp_string + '\\n' + new_string"
   ]
  },
  {
   "cell_type": "code",
   "execution_count": 102,
   "id": "ea0cc450",
   "metadata": {},
   "outputs": [],
   "source": [
    "df['Work Experience'] = df['Work Experience'].apply(format_exp)"
   ]
  },
  {
   "cell_type": "code",
   "execution_count": 103,
   "id": "6436928e",
   "metadata": {},
   "outputs": [],
   "source": [
    "# print(df.loc[64,'Education'])"
   ]
  },
  {
   "cell_type": "code",
   "execution_count": 104,
   "id": "76ac1a4f",
   "metadata": {},
   "outputs": [],
   "source": [
    "# print(df.loc[108].Education)"
   ]
  },
  {
   "cell_type": "code",
   "execution_count": 105,
   "id": "d4b21305",
   "metadata": {},
   "outputs": [],
   "source": [
    "# s_edu = df.loc[2, 'Education']\n",
    "# s_edu"
   ]
  },
  {
   "cell_type": "code",
   "execution_count": 106,
   "id": "bdea50d2",
   "metadata": {},
   "outputs": [],
   "source": [
    "# edu_list = s_edu.split('\\n')\n",
    "# edu_list"
   ]
  },
  {
   "cell_type": "code",
   "execution_count": 107,
   "id": "a3a35649",
   "metadata": {},
   "outputs": [],
   "source": [
    "# Initiate string to hold all the education\n",
    "# edu_string = ''\n",
    "\n",
    "# for idx, edu in enumerate(edu_list):\n",
    "#     if (',' in edu) and ('·' in edu): # All parts of the education list exist\n",
    "#         school, degree_period_list = edu.rsplit(', ', 1) # rsplit used to account for comma in school name case\n",
    "#         degree, period = degree_period_list.split(' · ')\n",
    "#         if idx == 0:\n",
    "#             edu_string = edu_string + '- ' + degree + ': ' + school +  ' (' + period + ')'\n",
    "#         else:\n",
    "#             edu_string = edu_string + '\\n' + '- ' + degree + ': ' + school +  ' (' + period + ')'\n",
    "    \n",
    "#     elif (',' in edu) and ('·' not in edu): # The school and degree exist, but not the period\n",
    "#         school, degree = edu.rsplit(', ', 1) # rsplit used to account for comma in school name case\n",
    "#         if idx == 0:\n",
    "#             edu_string = edu_string + '- ' + degree + ': ' + school +  ' (????)'\n",
    "#         else:\n",
    "#             edu_string = edu_string + '\\n' + '- ' + degree + ': ' + school +  ' (????)'\n",
    "        \n",
    "#     elif (',' not in edu) and ('·' in edu): # The school and period exist, but not the degree\n",
    "#         school, period = edu.split(' · ')\n",
    "#         if idx == 0:\n",
    "#             edu_string = edu_string + '- '  + '??: ' + school +  ' (' + period + ')'\n",
    "#         else:\n",
    "#             edu_string = edu_string + '\\n' + '- ' + '??: ' + school +  ' (' + period + ')'\n",
    "    \n",
    "#     else: # Only the school exists (this is the only required field for education in LinkedIn)\n",
    "#         school = edu\n",
    "#         if idx == 0:\n",
    "#             edu_string = edu_string + '- ' + '??: ' + school +  ' (????)'\n",
    "#         else:\n",
    "#             edu_string = edu_string + '\\n' + '- '+ '??: ' + school +  ' (????)'\n",
    "\n",
    "# print(edu_string)"
   ]
  },
  {
   "cell_type": "code",
   "execution_count": 108,
   "id": "1ca2dbab",
   "metadata": {},
   "outputs": [],
   "source": [
    "# Create education formatter function\n",
    "def format_edu (input_edu_string):\n",
    "    \"\"\"Takes the education input string \n",
    "    and puts into a more reader friendly format.\n",
    "    \"\"\"\n",
    "    # Split the education string into a list at each new line\n",
    "    edu_list = input_edu_string.split('\\n')\n",
    "    \n",
    "    # Initiate a string to hold all the education in a new format\n",
    "    edu_string = ''\n",
    "    \n",
    "    # Rebuild the education string (edu_string) in a more readable way\n",
    "    # Note that for education entries in LinkedIn 'school' is the only required field, others are optional. \n",
    "    # If the optional fields are missing, question marks (?) will be added to indicate that.\n",
    "    # If someone uses an unlisted school name then only the degree and period exist, \n",
    "    # and someone can enter just the school and period without the degree. \n",
    "    # In these cases which ever one exists will be output in the string.\n",
    "    # There are also rare cases in which only a period exists, \n",
    "    # which would be the result when someone uses an unlisted school name, no degree, and includes the period. \n",
    "    for idx, edu in enumerate(edu_list):\n",
    "        # Print a warning if \"Profile education\" is present in the education entry.\n",
    "        if edu == \"Profile education\":\n",
    "            print('Warning:\\nThe text string \\\"Profile education\\\" was found in one of the education entries. ' +\n",
    "                  'This string is sometimes inadvertently copied over with the education when cutting and pasting. ' +\n",
    "                  'All education entry formatting has been completed, ' +\n",
    "                  'but you will need to check all entries in your output file and remove it manually.\\n')\n",
    "        \n",
    "        if (',' in edu) and ('·' in edu): # All parts of the education list exist\n",
    "            school, degree_period_list = edu.rsplit(', ', 1) # rsplit used to account for comma in school name case\n",
    "            degree, period = degree_period_list.split(' · ')\n",
    "            if idx == 0:\n",
    "                edu_string = edu_string + '- ' + degree + ': ' + school +  ' (' + period + ')'\n",
    "            else:\n",
    "                edu_string = edu_string + '\\n' + '- ' + degree + ': ' + school +  ' (' + period + ')'\n",
    "\n",
    "        elif (',' in edu) and ('·' not in edu): # The school and degree exist, but not the period\n",
    "            school, degree = edu.rsplit(', ', 1) # rsplit used to account for comma in school name case\n",
    "            if idx == 0:\n",
    "                edu_string = edu_string + '- ' + degree + ': ' + school +  ' (????)'\n",
    "            else:\n",
    "                edu_string = edu_string + '\\n' + '- ' + degree + ': ' + school +  ' (????)'\n",
    "\n",
    "        elif (',' not in edu) and ('·' in edu): # The school OR degree and period exist\n",
    "            # Cannot easily distinguish between school and degree \n",
    "            # so will just output whichever one is there.\n",
    "            # There are also some rare cases in which only the period exists. \n",
    "            # In these cases an value error results when the split below is performed. \n",
    "            # In these cases we can add it in the proper format when the error is caught. \n",
    "            error_flag = False\n",
    "            try:\n",
    "                school_or_degree, period = edu.split(' · ')\n",
    "            except ValueError:\n",
    "                error_flag = True\n",
    "                \n",
    "            if error_flag:\n",
    "                period = edu.lstrip('· ')\n",
    "                if idx == 0:\n",
    "                    edu_string = edu_string + '- '  + '??' + ': ' + '??' +  ' (' + period + ')'\n",
    "                else:\n",
    "                    edu_string = edu_string + '\\n' + '- '  + '??' + ': ' + '??' +  ' (' + period + ')'\n",
    "            \n",
    "            else:               \n",
    "                if idx == 0:\n",
    "                    edu_string = edu_string + '- ' + school_or_degree +  ' (' + period + ')'\n",
    "                else:\n",
    "                    edu_string = edu_string + '\\n' + '- ' + school_or_degree +  ' (' + period + ')'\n",
    "\n",
    "        else: # Only the school exists\n",
    "            school = edu\n",
    "            if idx == 0:\n",
    "                edu_string = edu_string + '- ' + '??: ' + school +  ' (????)'\n",
    "            else:\n",
    "                edu_string = edu_string + '\\n' + '- '+ '??: ' + school +  ' (????)'\n",
    "        \n",
    "    return edu_string"
   ]
  },
  {
   "cell_type": "code",
   "execution_count": 109,
   "id": "1691937a",
   "metadata": {},
   "outputs": [],
   "source": [
    "df['Education'] = df['Education'].apply(format_edu)"
   ]
  },
  {
   "cell_type": "code",
   "execution_count": 110,
   "id": "01101229",
   "metadata": {},
   "outputs": [],
   "source": [
    "# print(df.loc[64,'Education'])"
   ]
  },
  {
   "cell_type": "code",
   "execution_count": 111,
   "id": "34279334",
   "metadata": {},
   "outputs": [],
   "source": [
    "# print(df.loc[108].Education)"
   ]
  },
  {
   "cell_type": "code",
   "execution_count": 112,
   "id": "9c5d22db",
   "metadata": {},
   "outputs": [
    {
     "data": {
      "text/html": [
       "<div>\n",
       "<style scoped>\n",
       "    .dataframe tbody tr th:only-of-type {\n",
       "        vertical-align: middle;\n",
       "    }\n",
       "\n",
       "    .dataframe tbody tr th {\n",
       "        vertical-align: top;\n",
       "    }\n",
       "\n",
       "    .dataframe thead th {\n",
       "        text-align: right;\n",
       "    }\n",
       "</style>\n",
       "<table border=\"1\" class=\"dataframe\">\n",
       "  <thead>\n",
       "    <tr style=\"text-align: right;\">\n",
       "      <th></th>\n",
       "      <th>First Name</th>\n",
       "      <th>Last Name</th>\n",
       "      <th>Education</th>\n",
       "      <th>Work Experience</th>\n",
       "      <th>Profile URL</th>\n",
       "    </tr>\n",
       "  </thead>\n",
       "  <tbody>\n",
       "    <tr>\n",
       "      <th>0</th>\n",
       "      <td>Myunghee</td>\n",
       "      <td>Kim</td>\n",
       "      <td>- Doctor of Philosophy (Ph.D.): Carnegie Mello...</td>\n",
       "      <td>- University of Illinois at Chicago\\n  · Assis...</td>\n",
       "      <td>https://www.linkedin.com/in/myunghee-kim-1811a23a</td>\n",
       "    </tr>\n",
       "    <tr>\n",
       "      <th>1</th>\n",
       "      <td>Johnny</td>\n",
       "      <td>Lee</td>\n",
       "      <td>- PhD: Carnegie Mellon University (2001 – 2008...</td>\n",
       "      <td>- Google\\n  · Director Of Engineering (2022 – ...</td>\n",
       "      <td>https://www.linkedin.com/in/johnnychunglee</td>\n",
       "    </tr>\n",
       "    <tr>\n",
       "      <th>2</th>\n",
       "      <td>MJ</td>\n",
       "      <td>Chun</td>\n",
       "      <td>- BA - High Honors: Swarthmore College (1996 –...</td>\n",
       "      <td>- Serve Robotics\\n  · Head of Product (2021 – ...</td>\n",
       "      <td>https://www.linkedin.com/in/mjchun</td>\n",
       "    </tr>\n",
       "  </tbody>\n",
       "</table>\n",
       "</div>"
      ],
      "text/plain": [
       "  First Name Last Name                                          Education  \\\n",
       "0   Myunghee       Kim  - Doctor of Philosophy (Ph.D.): Carnegie Mello...   \n",
       "1     Johnny       Lee  - PhD: Carnegie Mellon University (2001 – 2008...   \n",
       "2         MJ      Chun  - BA - High Honors: Swarthmore College (1996 –...   \n",
       "\n",
       "                                     Work Experience  \\\n",
       "0  - University of Illinois at Chicago\\n  · Assis...   \n",
       "1  - Google\\n  · Director Of Engineering (2022 – ...   \n",
       "2  - Serve Robotics\\n  · Head of Product (2021 – ...   \n",
       "\n",
       "                                         Profile URL  \n",
       "0  https://www.linkedin.com/in/myunghee-kim-1811a23a  \n",
       "1         https://www.linkedin.com/in/johnnychunglee  \n",
       "2                 https://www.linkedin.com/in/mjchun  "
      ]
     },
     "execution_count": 112,
     "metadata": {},
     "output_type": "execute_result"
    }
   ],
   "source": [
    "df"
   ]
  },
  {
   "cell_type": "code",
   "execution_count": 113,
   "id": "b1324ae9",
   "metadata": {},
   "outputs": [],
   "source": [
    "# Add an initial quote at the start of each education and experience\n",
    "# So that excel recognizes them as text not formulas\n",
    "def add_quote(input_string):\n",
    "    input_string = '\\'' + input_string\n",
    "    return input_string\n",
    "\n",
    "df['Education'] = df['Education'].apply(add_quote)\n",
    "df['Work Experience'] = df['Work Experience'].apply(add_quote)\n",
    "\n"
   ]
  },
  {
   "cell_type": "code",
   "execution_count": 114,
   "id": "88c2ab24",
   "metadata": {},
   "outputs": [],
   "source": [
    "# Export\n",
    "# df.to_excel('canada_list_output.xlsx', encoding='utf-8')\n",
    "df.to_excel('previous_edu_and_exp_output.xlsx', encoding='utf-8')"
   ]
  },
  {
   "cell_type": "code",
   "execution_count": 115,
   "id": "c220eb04",
   "metadata": {},
   "outputs": [],
   "source": [
    "# Extra commas in school names have been accounted for\n",
    "# However commas in degree names could still mess up the formatting\n",
    "# Note that for education 'school' is the only required field, others are optional\n",
    "# So, if the optional fields are missing, question marks (?) will be added to indicate that\n",
    "# It seems that there are some rare cases in which only the period is listed, these will be skipped and a message printed\n",
    "# Also, if someone uses an unlisted school name then only the degree and period exist,\n",
    "# which results in a having just the degree and period listed but with the degree where the school name should be"
   ]
  },
  {
   "cell_type": "code",
   "execution_count": 116,
   "id": "e0046bd6",
   "metadata": {},
   "outputs": [],
   "source": [
    "# print(df.loc[64].Education)"
   ]
  },
  {
   "cell_type": "code",
   "execution_count": 117,
   "id": "f3679934",
   "metadata": {},
   "outputs": [],
   "source": [
    "# df[df.Education.str.contains('1994')]"
   ]
  },
  {
   "cell_type": "code",
   "execution_count": 118,
   "id": "c02f151e",
   "metadata": {},
   "outputs": [],
   "source": [
    "# df[df['First Name'].str.contains('Jeong Woo')]"
   ]
  },
  {
   "cell_type": "code",
   "execution_count": null,
   "id": "7b84893d",
   "metadata": {},
   "outputs": [],
   "source": []
  }
 ],
 "metadata": {
  "kernelspec": {
   "display_name": "Python [conda env:root] *",
   "language": "python",
   "name": "conda-root-py"
  },
  "language_info": {
   "codemirror_mode": {
    "name": "ipython",
    "version": 3
   },
   "file_extension": ".py",
   "mimetype": "text/x-python",
   "name": "python",
   "nbconvert_exporter": "python",
   "pygments_lexer": "ipython3",
   "version": "3.9.5"
  }
 },
 "nbformat": 4,
 "nbformat_minor": 5
}
