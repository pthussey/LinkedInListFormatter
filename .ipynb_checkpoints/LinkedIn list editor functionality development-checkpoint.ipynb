{
 "cells": [
  {
   "cell_type": "code",
   "execution_count": 52,
   "id": "4c986b98",
   "metadata": {},
   "outputs": [],
   "source": [
    "%matplotlib inline\n",
    "\n",
    "import pandas as pd\n"
   ]
  },
  {
   "cell_type": "code",
   "execution_count": 53,
   "id": "5b6c3bbf",
   "metadata": {},
   "outputs": [
    {
     "data": {
      "text/html": [
       "<div>\n",
       "<style scoped>\n",
       "    .dataframe tbody tr th:only-of-type {\n",
       "        vertical-align: middle;\n",
       "    }\n",
       "\n",
       "    .dataframe tbody tr th {\n",
       "        vertical-align: top;\n",
       "    }\n",
       "\n",
       "    .dataframe thead th {\n",
       "        text-align: right;\n",
       "    }\n",
       "</style>\n",
       "<table border=\"1\" class=\"dataframe\">\n",
       "  <thead>\n",
       "    <tr style=\"text-align: right;\">\n",
       "      <th></th>\n",
       "      <th>First Name</th>\n",
       "      <th>Last Name</th>\n",
       "      <th>Location</th>\n",
       "      <th>Education</th>\n",
       "      <th>Work Experience</th>\n",
       "      <th>Profile URL</th>\n",
       "    </tr>\n",
       "  </thead>\n",
       "  <tbody>\n",
       "    <tr>\n",
       "      <th>0</th>\n",
       "      <td>Jinwook</td>\n",
       "      <td>Kim</td>\n",
       "      <td>Seongnam</td>\n",
       "      <td>Sogang University, Certificate (Short-term cou...</td>\n",
       "      <td>Director Of Business Development at 주식회사 클로봇 (...</td>\n",
       "      <td>https://www.linkedin.com/in/jinwook-kim-686bb09</td>\n",
       "    </tr>\n",
       "    <tr>\n",
       "      <th>1</th>\n",
       "      <td>Myunghee</td>\n",
       "      <td>Kim</td>\n",
       "      <td>Greater Chicago Area</td>\n",
       "      <td>Carnegie Mellon University, Doctor of Philosop...</td>\n",
       "      <td>Assistant Professor at University of Illinois ...</td>\n",
       "      <td>https://www.linkedin.com/in/myunghee-kim-1811a23a</td>\n",
       "    </tr>\n",
       "    <tr>\n",
       "      <th>2</th>\n",
       "      <td>Johnny</td>\n",
       "      <td>Lee</td>\n",
       "      <td>United States</td>\n",
       "      <td>Carnegie Mellon University, PhD · 2001 – 2008\\...</td>\n",
       "      <td>Director Of Engineering at Google · 2022 – Pre...</td>\n",
       "      <td>https://www.linkedin.com/in/johnnychunglee</td>\n",
       "    </tr>\n",
       "    <tr>\n",
       "      <th>3</th>\n",
       "      <td>MJ</td>\n",
       "      <td>Chun</td>\n",
       "      <td>San Francisco</td>\n",
       "      <td>Swarthmore College, BA - High Honors · 1996 – ...</td>\n",
       "      <td>Head of Product at Serve Robotics · 2021 – Pre...</td>\n",
       "      <td>https://www.linkedin.com/in/mjchun</td>\n",
       "    </tr>\n",
       "  </tbody>\n",
       "</table>\n",
       "</div>"
      ],
      "text/plain": [
       "  First Name Last Name              Location  \\\n",
       "0    Jinwook       Kim              Seongnam   \n",
       "1   Myunghee       Kim  Greater Chicago Area   \n",
       "2     Johnny       Lee         United States   \n",
       "3         MJ      Chun         San Francisco   \n",
       "\n",
       "                                           Education  \\\n",
       "0  Sogang University, Certificate (Short-term cou...   \n",
       "1  Carnegie Mellon University, Doctor of Philosop...   \n",
       "2  Carnegie Mellon University, PhD · 2001 – 2008\\...   \n",
       "3  Swarthmore College, BA - High Honors · 1996 – ...   \n",
       "\n",
       "                                     Work Experience  \\\n",
       "0  Director Of Business Development at 주식회사 클로봇 (...   \n",
       "1  Assistant Professor at University of Illinois ...   \n",
       "2  Director Of Engineering at Google · 2022 – Pre...   \n",
       "3  Head of Product at Serve Robotics · 2021 – Pre...   \n",
       "\n",
       "                                         Profile URL  \n",
       "0    https://www.linkedin.com/in/jinwook-kim-686bb09  \n",
       "1  https://www.linkedin.com/in/myunghee-kim-1811a23a  \n",
       "2         https://www.linkedin.com/in/johnnychunglee  \n",
       "3                 https://www.linkedin.com/in/mjchun  "
      ]
     },
     "execution_count": 53,
     "metadata": {},
     "output_type": "execute_result"
    }
   ],
   "source": [
    "df = pd.read_csv('pipeline_export_new.csv', encoding='utf-8')\n",
    "df"
   ]
  },
  {
   "cell_type": "code",
   "execution_count": 54,
   "id": "e756fe93",
   "metadata": {},
   "outputs": [
    {
     "data": {
      "text/plain": [
       "'Assistant Professor at University of Illinois at Chicago · 2018 – Present\\nPostdoctoral Fellow at Harvard university · 2016 – 2018\\nPostdoctoral Fellowship at Carnegie Mellon University · 2016 – 2016\\nResearch Assistant at Carnegie Mellon University · 2011 – 2015\\nSenior Engineer at Samsung Electronics · 2008 – 2011\\nProject Manager at Woongjin Coway Co., LTD. · 2006 – 2008\\nResearch Assistant at Massachusetts Institute of Technology (MIT), Humanoid Robotics Group · 2004 – 2006\\nResearch Assistant at Korea Advanced Institute of Science and Technology, Machine control lab · 2002 – 2004'"
      ]
     },
     "execution_count": 54,
     "metadata": {},
     "output_type": "execute_result"
    }
   ],
   "source": [
    "s = df.loc[1, 'Work Experience']\n",
    "s"
   ]
  },
  {
   "cell_type": "code",
   "execution_count": 55,
   "id": "fad08fab",
   "metadata": {},
   "outputs": [
    {
     "data": {
      "text/plain": [
       "['Assistant Professor at University of Illinois at Chicago · 2018 – Present',\n",
       " 'Postdoctoral Fellow at Harvard university · 2016 – 2018',\n",
       " 'Postdoctoral Fellowship at Carnegie Mellon University · 2016 – 2016',\n",
       " 'Research Assistant at Carnegie Mellon University · 2011 – 2015',\n",
       " 'Senior Engineer at Samsung Electronics · 2008 – 2011',\n",
       " 'Project Manager at Woongjin Coway Co., LTD. · 2006 – 2008',\n",
       " 'Research Assistant at Massachusetts Institute of Technology (MIT), Humanoid Robotics Group · 2004 – 2006',\n",
       " 'Research Assistant at Korea Advanced Institute of Science and Technology, Machine control lab · 2002 – 2004']"
      ]
     },
     "execution_count": 55,
     "metadata": {},
     "output_type": "execute_result"
    }
   ],
   "source": [
    "exp_list = s.split('\\n')\n",
    "exp_list"
   ]
  },
  {
   "cell_type": "code",
   "execution_count": 56,
   "id": "e91a8a43",
   "metadata": {},
   "outputs": [],
   "source": [
    "# title_split_list = exp_list[0].split(' at ', 1)\n",
    "# title = title_split_list[0]"
   ]
  },
  {
   "cell_type": "code",
   "execution_count": 57,
   "id": "ac6ee351",
   "metadata": {},
   "outputs": [],
   "source": [
    "# company, period = title_split_list[1].split(' · ')"
   ]
  },
  {
   "cell_type": "code",
   "execution_count": 58,
   "id": "34000231",
   "metadata": {},
   "outputs": [],
   "source": [
    "# exp_split_list =[title, company, period]\n",
    "# exp_split_list"
   ]
  },
  {
   "cell_type": "code",
   "execution_count": 59,
   "id": "68b752bc",
   "metadata": {},
   "outputs": [
    {
     "data": {
      "text/plain": [
       "[['Assistant Professor',\n",
       "  'University of Illinois at Chicago',\n",
       "  '2018 – Present'],\n",
       " ['Postdoctoral Fellow', 'Harvard university', '2016 – 2018'],\n",
       " ['Postdoctoral Fellowship', 'Carnegie Mellon University', '2016 – 2016'],\n",
       " ['Research Assistant', 'Carnegie Mellon University', '2011 – 2015'],\n",
       " ['Senior Engineer', 'Samsung Electronics', '2008 – 2011'],\n",
       " ['Project Manager', 'Woongjin Coway Co., LTD.', '2006 – 2008'],\n",
       " ['Research Assistant',\n",
       "  'Massachusetts Institute of Technology (MIT), Humanoid Robotics Group',\n",
       "  '2004 – 2006'],\n",
       " ['Research Assistant',\n",
       "  'Korea Advanced Institute of Science and Technology, Machine control lab',\n",
       "  '2002 – 2004']]"
      ]
     },
     "execution_count": 59,
     "metadata": {},
     "output_type": "execute_result"
    }
   ],
   "source": [
    "full_exp_split_list = []\n",
    "for exp in exp_list:\n",
    "    title_split_list = exp.split(' at ', 1)\n",
    "    title = title_split_list[0]\n",
    "    company, period = title_split_list[1].split(' · ')\n",
    "    exp_split_list = [title, company, period]\n",
    "    full_exp_split_list.append(exp_split_list)\n",
    "\n",
    "full_exp_split_list"
   ]
  },
  {
   "cell_type": "code",
   "execution_count": 60,
   "id": "3d057745",
   "metadata": {},
   "outputs": [
    {
     "data": {
      "text/plain": [
       "['Assistant Professor', 'University of Illinois at Chicago', '2018 – Present']"
      ]
     },
     "execution_count": 60,
     "metadata": {},
     "output_type": "execute_result"
    }
   ],
   "source": [
    "exp_string = ''\n",
    "full_exp_split_list[0]"
   ]
  },
  {
   "cell_type": "code",
   "execution_count": 61,
   "id": "f4080bd3",
   "metadata": {},
   "outputs": [
    {
     "data": {
      "text/plain": [
       "'- University of Illinois at Chicago, Assistant Professor (2018 – Present)'"
      ]
     },
     "execution_count": 61,
     "metadata": {},
     "output_type": "execute_result"
    }
   ],
   "source": [
    "# Case of single entry for a company\n",
    "exp_string + '- ' + full_exp_split_list[0][1] + ', ' + full_exp_split_list[0][0] + ' (' + full_exp_split_list[0][2] + ')'"
   ]
  },
  {
   "cell_type": "code",
   "execution_count": 62,
   "id": "7d7c1b57",
   "metadata": {},
   "outputs": [
    {
     "data": {
      "text/plain": [
       "'- University of Illinois at Chicago\\n  · Assistant Professor (2018 – Present)'"
      ]
     },
     "execution_count": 62,
     "metadata": {},
     "output_type": "execute_result"
    }
   ],
   "source": [
    "# Case of the same company in next item\n",
    "(exp_string + '- ' + full_exp_split_list[0][1] + '\\n' +\n",
    "'  · ' + full_exp_split_list[0][0] + ' (' + full_exp_split_list[0][2] + ')')"
   ]
  },
  {
   "cell_type": "code",
   "execution_count": 63,
   "id": "87bcfe90",
   "metadata": {},
   "outputs": [
    {
     "name": "stdout",
     "output_type": "stream",
     "text": [
      "- University of Illinois at Chicago, Assistant Professor (2018 – Present)\n",
      "- Harvard university, Postdoctoral Fellow (2016 – 2018)\n",
      "- Carnegie Mellon University\n",
      "  · Postdoctoral Fellowship (2016 – 2016)\n",
      "  · Research Assistant (2011 – 2015)\n",
      "- Samsung Electronics, Senior Engineer (2008 – 2011)\n",
      "- Woongjin Coway Co., LTD., Project Manager (2006 – 2008)\n",
      "- Massachusetts Institute of Technology (MIT), Humanoid Robotics Group, Research Assistant (2004 – 2006)\n",
      "- Korea Advanced Institute of Science and Technology, Machine control lab, Research Assistant (2002 – 2004)\n"
     ]
    }
   ],
   "source": [
    "# Initiate string to hold all the work experiences\n",
    "exp_string = ''\n",
    "\n",
    "for idx, exp in enumerate(full_exp_split_list):  \n",
    "    # Handle the first experience in the list\n",
    "    if idx == 0:\n",
    "        if full_exp_split_list[idx][1] == full_exp_split_list[idx+1][1]: # current and next company check\n",
    "            exp_string = exp_string + '- ' + exp[1] + '\\n' + '  · ' + exp[0] + ' (' + exp[2] + ')'\n",
    "        else:\n",
    "            exp_string = exp_string + '- ' + exp[1] + ', ' + exp[0] + ' (' + exp[2] + ')'\n",
    "    \n",
    "    # Handle the last experience in the list\n",
    "    elif idx == len(full_exp_split_list)-1:\n",
    "        if full_exp_split_list[idx][1] == full_exp_split_list[idx-1][1]: # current and previous company check\n",
    "            new_string = '  · ' + exp[0] + ' (' + exp[2] + ')'\n",
    "            exp_string = exp_string + '\\n' + new_string\n",
    "        else:\n",
    "            new_string = '- ' + exp[1] + ', ' + exp[0] + ' (' + exp[2] + ')'\n",
    "            exp_string = exp_string + '\\n' + new_string\n",
    "    \n",
    "    # Handle all the experiences in the middle\n",
    "    else:\n",
    "        if full_exp_split_list[idx][1] == full_exp_split_list[idx-1][1]: # current and previous company check\n",
    "            new_string = '  · ' + exp[0] + ' (' + exp[2] + ')'\n",
    "            exp_string = exp_string + '\\n' + new_string\n",
    "        else:\n",
    "            if full_exp_split_list[idx][1] == full_exp_split_list[idx+1][1]: # current and next company check\n",
    "                new_string = '- ' + exp[1] + '\\n' + '  · ' + exp[0] + ' (' + exp[2] + ')'\n",
    "                exp_string = exp_string + '\\n' + new_string\n",
    "            else:\n",
    "                new_string = '- ' + exp[1] + ', ' + exp[0] + ' (' + exp[2] + ')'\n",
    "                exp_string = exp_string + '\\n' + new_string\n",
    "            \n",
    "    \n",
    "print(exp_string)\n",
    "#     current_exp = exp\n",
    "#     next_exp = exp + 1\n",
    "#     if current_exp[1] == next_exp[1]:\n",
    "#         next_exp_check = True\n",
    "#     else:\n",
    "#         next_exp_check = False\n",
    "    \n",
    "#     if multi_exp_flag:\n",
    "#         exp_string + '- ' + exp[1] + '\\n' + '  · ' + exp[0] + ' (' + exp[2] + ')'\n",
    "#     else:\n",
    "#         exp_string + '- ' + exp[1] + ', ' + exp[0] + ' (' + exp[2] + ')'\n",
    "    \n",
    "#     if next_exp_check == False:\n",
    "#         multi_exp_flag = False\n",
    "    "
   ]
  },
  {
   "cell_type": "code",
   "execution_count": null,
   "id": "ace107dd",
   "metadata": {},
   "outputs": [],
   "source": []
  },
  {
   "cell_type": "code",
   "execution_count": 64,
   "id": "d4b21305",
   "metadata": {},
   "outputs": [
    {
     "data": {
      "text/plain": [
       "'Swarthmore College, BA - High Honors · 1996 – 2000\\nSeoul International School'"
      ]
     },
     "execution_count": 64,
     "metadata": {},
     "output_type": "execute_result"
    }
   ],
   "source": [
    "s_edu = df.loc[3, 'Education']\n",
    "s_edu"
   ]
  },
  {
   "cell_type": "code",
   "execution_count": 65,
   "id": "bdea50d2",
   "metadata": {},
   "outputs": [
    {
     "data": {
      "text/plain": [
       "['Swarthmore College, BA - High Honors · 1996 – 2000',\n",
       " 'Seoul International School']"
      ]
     },
     "execution_count": 65,
     "metadata": {},
     "output_type": "execute_result"
    }
   ],
   "source": [
    "edu_list = s_edu.split('\\n')\n",
    "edu_list"
   ]
  },
  {
   "cell_type": "code",
   "execution_count": 66,
   "id": "a3a35649",
   "metadata": {},
   "outputs": [
    {
     "name": "stdout",
     "output_type": "stream",
     "text": [
      "- BA - High Honors: Swarthmore College (1996 – 2000)\n",
      "- Seoul International School\n"
     ]
    }
   ],
   "source": [
    "# Initiate string to hold all the education\n",
    "edu_string = ''\n",
    "\n",
    "for idx, edu in enumerate(edu_list):\n",
    "    if (',' in edu) and ('·' in edu):\n",
    "        school, degree_period_list = edu.split(', ', 1)\n",
    "        degree, period = degree_period_list.split(' · ')\n",
    "        if idx == 0:\n",
    "            edu_string = edu_string + '- ' + degree + ': ' + school +  ' (' + period + ')'\n",
    "        else:\n",
    "            edu_string = edu_string + '\\n' + '- ' + degree + ': ' + school +  ' (' + period + ')'\n",
    "    \n",
    "    elif (',' in edu) and ('·' not in edu):\n",
    "        school, degree = edu.split(', ', 1)\n",
    "        if idx == 0:\n",
    "            edu_string = edu_string + '- ' + degree + ': ' + school\n",
    "        else:\n",
    "            edu_string = edu_string + '\\n' + '- ' + degree + ': ' + school\n",
    "        \n",
    "    elif (',' not in edu) and ('·' in edu):\n",
    "        school, period = edu.split(' · ')\n",
    "        if idx == 0:\n",
    "            edu_string = edu_string + '- ' + school +  ' (' + period + ')'\n",
    "        else:\n",
    "            edu_string = edu_string + '\\n' + '- ' + school +  ' (' + period + ')'\n",
    "    \n",
    "    else:\n",
    "        school = edu\n",
    "        if idx == 0:\n",
    "            edu_string = edu_string + '- ' + school\n",
    "        else:\n",
    "            edu_string = edu_string + '\\n' + '- ' + school\n",
    "\n",
    "print(edu_string)"
   ]
  },
  {
   "cell_type": "code",
   "execution_count": null,
   "id": "1c5b60ba",
   "metadata": {},
   "outputs": [],
   "source": []
  },
  {
   "cell_type": "code",
   "execution_count": null,
   "id": "4eeb522d",
   "metadata": {},
   "outputs": [],
   "source": [
    "# Consider whether or not I want to make all the work experiences the same format, \n",
    "# would be clearer, but would also make them quite long in some cases, but that would be editable to make shorter\n",
    "# so I think all the same would be best"
   ]
  },
  {
   "cell_type": "code",
   "execution_count": 67,
   "id": "6ef66971",
   "metadata": {},
   "outputs": [],
   "source": [
    "# Next I have to make a function that can be applied to each item in the dataframe\n",
    "# And the result needs to be a new string in the format I want"
   ]
  },
  {
   "cell_type": "code",
   "execution_count": 68,
   "id": "c220eb04",
   "metadata": {},
   "outputs": [],
   "source": [
    "# Note that there could be center dots in company or job titles (rare) \n",
    "# or commas in the school names (somewhat common) that would mess up the formatting\n",
    "# Need to make note of that for users for when they do their list editing"
   ]
  }
 ],
 "metadata": {
  "kernelspec": {
   "display_name": "Python [conda env:root] *",
   "language": "python",
   "name": "conda-root-py"
  },
  "language_info": {
   "codemirror_mode": {
    "name": "ipython",
    "version": 3
   },
   "file_extension": ".py",
   "mimetype": "text/x-python",
   "name": "python",
   "nbconvert_exporter": "python",
   "pygments_lexer": "ipython3",
   "version": "3.9.5"
  }
 },
 "nbformat": 4,
 "nbformat_minor": 5
}
